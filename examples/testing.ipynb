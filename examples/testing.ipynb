{
 "cells": [
  {
   "cell_type": "code",
   "execution_count": 1,
   "id": "b1bd3e41-3c9a-4cd5-b78e-c6b41a52e56f",
   "metadata": {},
   "outputs": [
    {
     "name": "stdout",
     "output_type": "stream",
     "text": [
      "Populating the interactive namespace from numpy and matplotlib\n"
     ]
    }
   ],
   "source": [
    "%pylab inline\n",
    "%config InlineBackend.figure_format = 'retina'"
   ]
  },
  {
   "cell_type": "code",
   "execution_count": 5,
   "id": "fc2e1903-6b3a-46c5-a998-b971e3a98451",
   "metadata": {},
   "outputs": [],
   "source": [
    "import gwtones"
   ]
  },
  {
   "cell_type": "code",
   "execution_count": 10,
   "id": "d3e9e64a-83c7-4f64-b889-f31b1e0f9716",
   "metadata": {},
   "outputs": [
    {
     "data": {
      "text/plain": [
       "<module 'gwtones.data' from '/Users/maxisi/src/gwtones/gwtones/data.py'>"
      ]
     },
     "execution_count": 10,
     "metadata": {},
     "output_type": "execute_result"
    }
   ],
   "source": [
    "from importlib import reload\n",
    "reload(gwtones.data)"
   ]
  },
  {
   "cell_type": "code",
   "execution_count": null,
   "id": "0d619777-2716-44ad-b293-805928e8a9a1",
   "metadata": {},
   "outputs": [],
   "source": [
    "gwtones.fit.Mode"
   ]
  },
  {
   "cell_type": "code",
   "execution_count": 11,
   "id": "3a74e138-1ad0-4ebd-8dc2-2369a80d2c22",
   "metadata": {},
   "outputs": [
    {
     "data": {
      "text/plain": [
       "Mode(p=1, s=-2, l=2, m=2, n=0)"
      ]
     },
     "execution_count": 11,
     "metadata": {},
     "output_type": "execute_result"
    }
   ],
   "source": [
    "\n",
    "m = (1, -2, 2, 2, 0)\n",
    "gwtones.fit.Mode(**dict(zip(['p', 's', 'l', 'm', 'n'], m)))"
   ]
  },
  {
   "cell_type": "code",
   "execution_count": 14,
   "id": "43d8f7eb-4452-4e45-8b0a-850887632dc5",
   "metadata": {},
   "outputs": [],
   "source": [
    "chis = linspace(0, 5, 10, endpoint=False)"
   ]
  },
  {
   "cell_type": "code",
   "execution_count": 15,
   "id": "c2f54047-018e-4fcb-8209-ec8514793915",
   "metadata": {},
   "outputs": [
    {
     "data": {
      "text/plain": [
       "array([ True,  True,  True,  True,  True,  True,  True,  True,  True,\n",
       "        True])"
      ]
     },
     "execution_count": 15,
     "metadata": {},
     "output_type": "execute_result"
    }
   ],
   "source": [
    "chis**3 == chis*chis*chis"
   ]
  },
  {
   "cell_type": "code",
   "execution_count": 16,
   "id": "10d2785e-e938-467b-977e-b60d19a7894f",
   "metadata": {},
   "outputs": [
    {
     "data": {
      "text/plain": [
       "1"
      ]
     },
     "execution_count": 16,
     "metadata": {},
     "output_type": "execute_result"
    }
   ],
   "source": [
    "sign(5)"
   ]
  },
  {
   "cell_type": "code",
   "execution_count": 4,
   "id": "011c5564-7bf8-4a75-a2c3-62740b563380",
   "metadata": {},
   "outputs": [],
   "source": [
    "f = gwtones.Fit('ftau')"
   ]
  },
  {
   "cell_type": "code",
   "execution_count": 29,
   "id": "e0294da7-1862-46c4-8885-46f579c77f8b",
   "metadata": {},
   "outputs": [],
   "source": [
    "f = gwtones.data.Fit('ftau')"
   ]
  },
  {
   "cell_type": "code",
   "execution_count": 5,
   "id": "92aca713-7ca1-4a17-85af-57f32e644647",
   "metadata": {},
   "outputs": [
    {
     "data": {
      "text/plain": [
       "<pystan.model.StanModel at 0x176949070>"
      ]
     },
     "execution_count": 5,
     "metadata": {},
     "output_type": "execute_result"
    }
   ],
   "source": [
    "f._model"
   ]
  },
  {
   "cell_type": "code",
   "execution_count": 88,
   "id": "783eba7c-6955-417d-a218-f14601c06f43",
   "metadata": {},
   "outputs": [
    {
     "ename": "TypeError",
     "evalue": "only size-1 arrays can be converted to Python scalars",
     "output_type": "error",
     "traceback": [
      "\u001b[0;31m---------------------------------------------------------------------------\u001b[0m",
      "\u001b[0;31mTypeError\u001b[0m                                 Traceback (most recent call last)",
      "\u001b[0;32m<ipython-input-88-0ae1426b4cbf>\u001b[0m in \u001b[0;36m<module>\u001b[0;34m\u001b[0m\n\u001b[0;32m----> 1\u001b[0;31m \u001b[0mint\u001b[0m\u001b[0;34m(\u001b[0m\u001b[0marange\u001b[0m\u001b[0;34m(\u001b[0m\u001b[0;36m32\u001b[0m\u001b[0;34m)\u001b[0m\u001b[0;34m)\u001b[0m\u001b[0;34m\u001b[0m\u001b[0;34m\u001b[0m\u001b[0m\n\u001b[0m",
      "\u001b[0;31mTypeError\u001b[0m: only size-1 arrays can be converted to Python scalars"
     ]
    }
   ],
   "source": [
    "int(arange(32))"
   ]
  },
  {
   "cell_type": "code",
   "execution_count": 33,
   "id": "59435f45-79b5-448b-b297-7c20cb4e594a",
   "metadata": {},
   "outputs": [],
   "source": [
    "f2  = gwtones.data.Fit('ftau')"
   ]
  },
  {
   "cell_type": "code",
   "execution_count": 34,
   "id": "b65e9def-1f6b-4f9b-ab41-5d21bc00b7b5",
   "metadata": {},
   "outputs": [
    {
     "data": {
      "text/plain": [
       "{'ftau': <pystan.model.StanModel at 0x17c4c52e0>}"
      ]
     },
     "execution_count": 34,
     "metadata": {},
     "output_type": "execute_result"
    }
   ],
   "source": [
    "f2._compiled_models"
   ]
  },
  {
   "cell_type": "code",
   "execution_count": 35,
   "id": "cf6f0ef2-c8b7-426d-88cc-4efa8e71eb1f",
   "metadata": {},
   "outputs": [
    {
     "data": {
      "text/plain": [
       "<pystan.model.StanModel at 0x17c4c52e0>"
      ]
     },
     "execution_count": 35,
     "metadata": {},
     "output_type": "execute_result"
    }
   ],
   "source": [
    "f2._model"
   ]
  },
  {
   "cell_type": "code",
   "execution_count": 38,
   "id": "269229e1-a855-4614-841c-2e3fdc9934bb",
   "metadata": {},
   "outputs": [],
   "source": [
    "f3 = gwtones.data.Fit('what')"
   ]
  },
  {
   "cell_type": "code",
   "execution_count": 86,
   "id": "67522e48-2d76-407e-9b6e-461e5430b5f0",
   "metadata": {},
   "outputs": [
    {
     "ename": "TypeError",
     "evalue": "cannot unpack non-iterable int object",
     "output_type": "error",
     "traceback": [
      "\u001b[0;31m---------------------------------------------------------------------------\u001b[0m",
      "\u001b[0;31mTypeError\u001b[0m                                 Traceback (most recent call last)",
      "\u001b[0;32m<ipython-input-86-103dee6c3953>\u001b[0m in \u001b[0;36m<module>\u001b[0;34m\u001b[0m\n\u001b[1;32m      1\u001b[0m \u001b[0ma\u001b[0m \u001b[0;34m=\u001b[0m \u001b[0;36m1\u001b[0m\u001b[0;34m\u001b[0m\u001b[0;34m\u001b[0m\u001b[0m\n\u001b[0;32m----> 2\u001b[0;31m \u001b[0mc\u001b[0m\u001b[0;34m,\u001b[0m \u001b[0md\u001b[0m \u001b[0;34m=\u001b[0m \u001b[0ma\u001b[0m\u001b[0;34m\u001b[0m\u001b[0;34m\u001b[0m\u001b[0m\n\u001b[0m",
      "\u001b[0;31mTypeError\u001b[0m: cannot unpack non-iterable int object"
     ]
    }
   ],
   "source": [
    "a = 1\n",
    "c, d = a"
   ]
  },
  {
   "cell_type": "code",
   "execution_count": 39,
   "id": "b722e5d9-476a-4944-aed7-c3780d0c45a0",
   "metadata": {},
   "outputs": [
    {
     "ename": "ValueError",
     "evalue": "unrecognized model 'what'",
     "output_type": "error",
     "traceback": [
      "\u001b[0;31m---------------------------------------------------------------------------\u001b[0m",
      "\u001b[0;31mValueError\u001b[0m                                Traceback (most recent call last)",
      "\u001b[0;32m<ipython-input-39-92311cd6a23d>\u001b[0m in \u001b[0;36m<module>\u001b[0;34m\u001b[0m\n\u001b[0;32m----> 1\u001b[0;31m \u001b[0mf3\u001b[0m\u001b[0;34m.\u001b[0m\u001b[0m_model\u001b[0m\u001b[0;34m\u001b[0m\u001b[0;34m\u001b[0m\u001b[0m\n\u001b[0m",
      "\u001b[0;32m~/src/gwtones/gwtones/data.py\u001b[0m in \u001b[0;36m_model\u001b[0;34m(self)\u001b[0m\n\u001b[1;32m    250\u001b[0m             \u001b[0;32mimport\u001b[0m \u001b[0mpystan\u001b[0m\u001b[0;34m\u001b[0m\u001b[0;34m\u001b[0m\u001b[0m\n\u001b[1;32m    251\u001b[0m             \u001b[0mmodel\u001b[0m \u001b[0;34m=\u001b[0m \u001b[0mpystan\u001b[0m\u001b[0;34m.\u001b[0m\u001b[0mStanModel\u001b[0m\u001b[0;34m(\u001b[0m\u001b[0mmodel_code\u001b[0m\u001b[0;34m=\u001b[0m\u001b[0mcode\u001b[0m\u001b[0;34m.\u001b[0m\u001b[0mdecode\u001b[0m\u001b[0;34m(\u001b[0m\u001b[0;34m\"utf-8\"\u001b[0m\u001b[0;34m)\u001b[0m\u001b[0;34m)\u001b[0m\u001b[0;34m\u001b[0m\u001b[0;34m\u001b[0m\u001b[0m\n\u001b[0;32m--> 252\u001b[0;31m             \u001b[0mself\u001b[0m\u001b[0;34m.\u001b[0m\u001b[0m_compiled_models\u001b[0m\u001b[0;34m[\u001b[0m\u001b[0mself\u001b[0m\u001b[0;34m.\u001b[0m\u001b[0mmodel\u001b[0m\u001b[0;34m]\u001b[0m \u001b[0;34m=\u001b[0m \u001b[0mmodel\u001b[0m\u001b[0;34m\u001b[0m\u001b[0;34m\u001b[0m\u001b[0m\n\u001b[0m\u001b[1;32m    253\u001b[0m         \u001b[0;32melse\u001b[0m\u001b[0;34m:\u001b[0m\u001b[0;34m\u001b[0m\u001b[0;34m\u001b[0m\u001b[0m\n\u001b[1;32m    254\u001b[0m             \u001b[0;32mraise\u001b[0m \u001b[0mValueError\u001b[0m\u001b[0;34m(\u001b[0m\u001b[0;34m'unrecognized model %r'\u001b[0m \u001b[0;34m%\u001b[0m \u001b[0mself\u001b[0m\u001b[0;34m.\u001b[0m\u001b[0mmodel\u001b[0m\u001b[0;34m)\u001b[0m\u001b[0;34m\u001b[0m\u001b[0;34m\u001b[0m\u001b[0m\n",
      "\u001b[0;31mValueError\u001b[0m: unrecognized model 'what'"
     ]
    }
   ],
   "source": [
    "f3._model"
   ]
  },
  {
   "cell_type": "code",
   "execution_count": 40,
   "id": "1baf42d2-445f-4958-bd26-c8e3c9ff61bf",
   "metadata": {},
   "outputs": [
    {
     "data": {
      "text/plain": [
       "'ftau'"
      ]
     },
     "execution_count": 40,
     "metadata": {},
     "output_type": "execute_result"
    }
   ],
   "source": [
    "f.model"
   ]
  },
  {
   "cell_type": "code",
   "execution_count": 15,
   "id": "4d4d0289-2f21-4cf4-9d1c-4331e2fa304a",
   "metadata": {},
   "outputs": [],
   "source": [
    "import pystan"
   ]
  },
  {
   "cell_type": "code",
   "execution_count": 21,
   "id": "02e6adb0-a23a-476b-8cc4-c5cf48c7bbd0",
   "metadata": {},
   "outputs": [],
   "source": [
    "model = pystan.StanModel(model_code=f.model.decode(\"utf-8\"))"
   ]
  },
  {
   "cell_type": "code",
   "execution_count": 22,
   "id": "61a12420-7c48-4f74-ad04-7d442113e181",
   "metadata": {},
   "outputs": [
    {
     "data": {
      "text/plain": [
       "<pystan.model.StanModel at 0x17c062190>"
      ]
     },
     "execution_count": 22,
     "metadata": {},
     "output_type": "execute_result"
    }
   ],
   "source": [
    "model"
   ]
  },
  {
   "cell_type": "code",
   "execution_count": 17,
   "id": "14506468-1440-46d5-b537-076d4745c3eb",
   "metadata": {},
   "outputs": [],
   "source": [
    "import qnm"
   ]
  },
  {
   "cell_type": "code",
   "execution_count": 21,
   "id": "cb10dc73-a5cb-4c68-b2a8-51fa3227dc3c",
   "metadata": {},
   "outputs": [
    {
     "data": {
      "text/plain": [
       "-0.08563883498806524"
      ]
     },
     "execution_count": 21,
     "metadata": {},
     "output_type": "execute_result"
    }
   ],
   "source": [
    "q = qnm.modes_cache(-2, 2, 2, 0)\n",
    "omega = q(0.5)[0]\n",
    "omega.imag"
   ]
  },
  {
   "cell_type": "code",
   "execution_count": 29,
   "id": "e8c92836-b4d5-4778-9df1-1414330851d2",
   "metadata": {},
   "outputs": [
    {
     "data": {
      "text/plain": [
       "<module 'gwtones.qnms' from '/Users/maxisi/src/gwtones/gwtones/qnms.py'>"
      ]
     },
     "execution_count": 29,
     "metadata": {},
     "output_type": "execute_result"
    }
   ],
   "source": [
    "reload(gwtones.qnms)"
   ]
  },
  {
   "cell_type": "code",
   "execution_count": 30,
   "id": "bfb22102-123a-4f3e-8fb6-83d2465540b4",
   "metadata": {},
   "outputs": [],
   "source": [
    "coeffs = gwtones.qnms.KerrCoefficients(1, -2, 2, 2, 0)"
   ]
  },
  {
   "cell_type": "code",
   "execution_count": 31,
   "id": "9d809b72-0f5d-4cbc-a59e-73cd83c2cf7e",
   "metadata": {},
   "outputs": [
    {
     "data": {
      "text/plain": [
       "(array([-0.00823557,  0.05994978, -0.00106621,  0.08354181, -0.15165638,\n",
       "         0.11021346]),\n",
       " array([ 0.01180702,  0.08838127,  0.02528302, -0.09002286,  0.18245511,\n",
       "        -0.12162592]))"
      ]
     },
     "execution_count": 31,
     "metadata": {},
     "output_type": "execute_result"
    }
   ],
   "source": [
    "coeffs.values"
   ]
  },
  {
   "cell_type": "code",
   "execution_count": 34,
   "id": "2a4b8836-71cf-414c-bc57-cd7bce4642f5",
   "metadata": {},
   "outputs": [
    {
     "data": {
      "text/plain": [
       "(array([-0.00823557,  0.05994978, -0.00106621,  0.08354181, -0.15165638,\n",
       "         0.11021346]),\n",
       " array([ 0.01180702,  0.08838127,  0.02528302, -0.09002286,  0.18245511,\n",
       "        -0.12162592]))"
      ]
     },
     "execution_count": 34,
     "metadata": {},
     "output_type": "execute_result"
    }
   ],
   "source": [
    "coeffs2.values"
   ]
  },
  {
   "cell_type": "code",
   "execution_count": 33,
   "id": "6f798578-65fc-40e3-b174-bf4347b6332f",
   "metadata": {},
   "outputs": [],
   "source": [
    "coeffs2 = gwtones.qnms.KerrCoefficients(1, -2, 2, 2, 0)"
   ]
  },
  {
   "cell_type": "code",
   "execution_count": 36,
   "id": "d027b4da-cea9-45e3-bffb-ecce021a714a",
   "metadata": {},
   "outputs": [
    {
     "data": {
      "text/plain": [
       "Mode(p=1, s=-2, l=2, m=2, n=0)"
      ]
     },
     "execution_count": 36,
     "metadata": {},
     "output_type": "execute_result"
    }
   ],
   "source": [
    "coeffs.mode"
   ]
  },
  {
   "cell_type": "code",
   "execution_count": 66,
   "id": "10fd2eb4-4027-4104-a45c-2d18f442891e",
   "metadata": {},
   "outputs": [
    {
     "data": {
      "text/plain": [
       "<module 'gwtones.qnms' from '/Users/maxisi/src/gwtones/gwtones/qnms.py'>"
      ]
     },
     "execution_count": 66,
     "metadata": {},
     "output_type": "execute_result"
    }
   ],
   "source": [
    "reload(gwtones.qnms)"
   ]
  },
  {
   "cell_type": "code",
   "execution_count": 67,
   "id": "4f581f6b-baf1-41d2-8fc5-8e1a448da1e0",
   "metadata": {},
   "outputs": [],
   "source": [
    "mode = gwtones.qnms.KerrMode(1, -2, 2, 2, 1)"
   ]
  },
  {
   "cell_type": "code",
   "execution_count": 73,
   "id": "c8c1a71e-81ee-43ec-b8cc-f1bbd29dc6c5",
   "metadata": {},
   "outputs": [
    {
     "name": "stdout",
     "output_type": "stream",
     "text": [
      "CPU times: user 5 µs, sys: 1e+03 ns, total: 6 µs\n",
      "Wall time: 12.2 µs\n"
     ]
    },
    {
     "data": {
      "text/plain": [
       "(241.86682257077396, 0.0013848527722832864)"
      ]
     },
     "execution_count": 73,
     "metadata": {},
     "output_type": "execute_result"
    }
   ],
   "source": [
    "%time\n",
    "mode.ftau(0.69, 69)"
   ]
  },
  {
   "cell_type": "code",
   "execution_count": 77,
   "id": "9d6a1bcf-e70a-4b7c-a27c-9c84926790cf",
   "metadata": {},
   "outputs": [
    {
     "data": {
      "text/plain": [
       "<matplotlib.collections.PathCollection at 0x1786a9ac0>"
      ]
     },
     "execution_count": 77,
     "metadata": {},
     "output_type": "execute_result"
    },
    {
     "data": {
      "image/png": "[encoded data removed]",
      "text/plain": [
       "<Figure size 432x288 with 1 Axes>"
      ]
     },
     "metadata": {
      "image/png": {
       "height": 248,
       "width": 378
      },
      "needs_background": "light"
     },
     "output_type": "display_data"
    }
   ],
   "source": [
    "chis = linspace(0, 1, 10, endpoint=False)\n",
    "scatter(chis, mode.ftau(chis)[0], marker='.')\n",
    "scatter(chis, mode.ftau(chis, approx=True)[0], marker='+', )"
   ]
  },
  {
   "cell_type": "code",
   "execution_count": 72,
   "id": "9681c9f1-93a4-4e24-9c34-231f9cfd293d",
   "metadata": {},
   "outputs": [
    {
     "name": "stdout",
     "output_type": "stream",
     "text": [
      "CPU times: user 3 µs, sys: 0 ns, total: 3 µs\n",
      "Wall time: 6.91 µs\n"
     ]
    },
    {
     "data": {
      "text/plain": [
       "(241.0708332978867, 0.0013788616192769824)"
      ]
     },
     "execution_count": 72,
     "metadata": {},
     "output_type": "execute_result"
    }
   ],
   "source": [
    "%time\n",
    "mode.ftau(0.69, 69, approx=True)"
   ]
  },
  {
   "cell_type": "code",
   "execution_count": 47,
   "id": "b791d0d8-da88-423a-b6e7-5b19c30d3a07",
   "metadata": {},
   "outputs": [
    {
     "data": {
      "text/plain": [
       "1"
      ]
     },
     "execution_count": 47,
     "metadata": {},
     "output_type": "execute_result"
    }
   ],
   "source": [
    "array(1, ndmin=1)[0]"
   ]
  },
  {
   "cell_type": "code",
   "execution_count": 50,
   "id": "abc79310-d2b9-4c92-a372-654bb6604942",
   "metadata": {},
   "outputs": [],
   "source": [
    "a = array(1)"
   ]
  },
  {
   "cell_type": "code",
   "execution_count": 52,
   "id": "57fdce35-ab6f-4e42-8e17-b3009ede87f9",
   "metadata": {},
   "outputs": [
    {
     "ename": "TypeError",
     "evalue": "iteration over a 0-d array",
     "output_type": "error",
     "traceback": [
      "\u001b[0;31m---------------------------------------------------------------------------\u001b[0m",
      "\u001b[0;31mTypeError\u001b[0m                                 Traceback (most recent call last)",
      "\u001b[0;32m<ipython-input-52-c6bf334810c4>\u001b[0m in \u001b[0;36m<module>\u001b[0;34m\u001b[0m\n\u001b[0;32m----> 1\u001b[0;31m \u001b[0;32mfor\u001b[0m \u001b[0mj\u001b[0m \u001b[0;32min\u001b[0m \u001b[0mlist\u001b[0m\u001b[0;34m(\u001b[0m\u001b[0ma\u001b[0m\u001b[0;34m)\u001b[0m\u001b[0;34m:\u001b[0m\u001b[0;34m\u001b[0m\u001b[0;34m\u001b[0m\u001b[0m\n\u001b[0m\u001b[1;32m      2\u001b[0m     \u001b[0mprint\u001b[0m\u001b[0;34m(\u001b[0m\u001b[0mj\u001b[0m\u001b[0;34m)\u001b[0m\u001b[0;34m\u001b[0m\u001b[0;34m\u001b[0m\u001b[0m\n",
      "\u001b[0;31mTypeError\u001b[0m: iteration over a 0-d array"
     ]
    }
   ],
   "source": [
    "for j in list(a):\n",
    "    print(j)"
   ]
  },
  {
   "cell_type": "code",
   "execution_count": 49,
   "id": "7551b04c-0ca2-42e0-b575-5b54fd45318a",
   "metadata": {},
   "outputs": [
    {
     "ename": "TypeError",
     "evalue": "'int' object is not subscriptable",
     "output_type": "error",
     "traceback": [
      "\u001b[0;31m---------------------------------------------------------------------------\u001b[0m",
      "\u001b[0;31mTypeError\u001b[0m                                 Traceback (most recent call last)",
      "\u001b[0;32m<ipython-input-49-4a0962a5fa7b>\u001b[0m in \u001b[0;36m<module>\u001b[0;34m\u001b[0m\n\u001b[1;32m      1\u001b[0m \u001b[0ma\u001b[0m\u001b[0;34m=\u001b[0m\u001b[0;36m9\u001b[0m\u001b[0;34m\u001b[0m\u001b[0;34m\u001b[0m\u001b[0m\n\u001b[0;32m----> 2\u001b[0;31m \u001b[0ma\u001b[0m\u001b[0;34m[\u001b[0m\u001b[0;36m0\u001b[0m\u001b[0;34m]\u001b[0m\u001b[0;34m\u001b[0m\u001b[0;34m\u001b[0m\u001b[0m\n\u001b[0m",
      "\u001b[0;31mTypeError\u001b[0m: 'int' object is not subscriptable"
     ]
    }
   ],
   "source": [
    "a=9\n",
    "a[0]"
   ]
  },
  {
   "cell_type": "code",
   "execution_count": 79,
   "id": "ddd03d44-5fbd-4c09-b84f-2647273f9cb9",
   "metadata": {},
   "outputs": [
    {
     "data": {
      "text/plain": [
       "<module 'gwtones.fit' from '/Users/maxisi/src/gwtones/gwtones/fit.py'>"
      ]
     },
     "execution_count": 79,
     "metadata": {},
     "output_type": "execute_result"
    }
   ],
   "source": [
    "reload(gwtones.fit)"
   ]
  },
  {
   "cell_type": "code",
   "execution_count": 82,
   "id": "7ac74bb3-32cc-43d7-9da1-0d0853c522a8",
   "metadata": {},
   "outputs": [],
   "source": [
    "fit = gwtones.fit.Fit('kerr')"
   ]
  },
  {
   "cell_type": "code",
   "execution_count": 83,
   "id": "6bcd9e96-9ed0-42ce-a966-9c968d112b6b",
   "metadata": {},
   "outputs": [],
   "source": [
    "fit.set_tone_sequence(2)"
   ]
  },
  {
   "cell_type": "code",
   "execution_count": 84,
   "id": "d8f3a4b7-d8f8-4b82-a094-38f2f74c9fe7",
   "metadata": {},
   "outputs": [
    {
     "data": {
      "text/plain": [
       "(array([[-0.00823557,  0.05994978, -0.00106621,  0.08354181, -0.15165638,\n",
       "          0.11021346],\n",
       "        [-0.00817462,  0.05566214,  0.00174686,  0.08531498, -0.15464552,\n",
       "          0.11325923]]),\n",
       " array([[ 0.01180702,  0.08838127,  0.02528302, -0.09002286,  0.18245511,\n",
       "         -0.12162592],\n",
       "        [ 0.03544845,  0.27212686,  0.0702625 , -0.27797961,  0.55851284,\n",
       "         -0.36945098]]))"
      ]
     },
     "execution_count": 84,
     "metadata": {},
     "output_type": "execute_result"
    }
   ],
   "source": [
    "fit.coeffs"
   ]
  },
  {
   "cell_type": "code",
   "execution_count": 85,
   "id": "5908f910-6712-48fe-a292-967ed7d1438d",
   "metadata": {},
   "outputs": [
    {
     "data": {
      "text/plain": [
       "(array([[-0.00823557,  0.05994978, -0.00106621,  0.08354181, -0.15165638,\n",
       "          0.11021346],\n",
       "        [-0.00817462,  0.05566214,  0.00174686,  0.08531498, -0.15464552,\n",
       "          0.11325923]]),\n",
       " array([[ 0.01180702,  0.08838127,  0.02528302, -0.09002286,  0.18245511,\n",
       "         -0.12162592],\n",
       "        [ 0.03544845,  0.27212686,  0.0702625 , -0.27797961,  0.55851284,\n",
       "         -0.36945098]]))"
      ]
     },
     "execution_count": 85,
     "metadata": {},
     "output_type": "execute_result"
    }
   ],
   "source": [
    "fit.coeffs"
   ]
  },
  {
   "cell_type": "code",
   "execution_count": null,
   "id": "0dc30d07-b1e5-488c-bf78-3b878deedcb1",
   "metadata": {},
   "outputs": [],
   "source": []
  }
 ],
 "metadata": {
  "kernelspec": {
   "display_name": "Python 3",
   "language": "python",
   "name": "python3"
  },
  "language_info": {
   "codemirror_mode": {
    "name": "ipython",
    "version": 3
   },
   "file_extension": ".py",
   "mimetype": "text/x-python",
   "name": "python",
   "nbconvert_exporter": "python",
   "pygments_lexer": "ipython3",
   "version": "3.9.5"
  }
 },
 "nbformat": 4,
 "nbformat_minor": 5
}
